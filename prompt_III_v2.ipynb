{
 "cells": [
  {
   "cell_type": "markdown",
   "metadata": {},
   "source": [
    "# Practical Application III: Comparing Classifiers\n",
    "\n",
    "**Overview**: In this practical application, your goal is to compare the performance of the classifiers we encountered in this section, namely K Nearest Neighbor, Logistic Regression, Decision Trees, and Support Vector Machines.  We will utilize a dataset related to marketing bank products over the telephone.  \n",
    "\n"
   ]
  },
  {
   "cell_type": "markdown",
   "metadata": {},
   "source": [
    "### Getting Started\n",
    "\n",
    "Our dataset comes from the UCI Machine Learning repository [link](https://archive.ics.uci.edu/ml/datasets/bank+marketing).  The data is from a Portugese banking institution and is a collection of the results of multiple marketing campaigns.  We will make use of the article accompanying the dataset [here](CRISP-DM-BANK.pdf) for more information on the data and features.\n",
    "\n"
   ]
  },
  {
   "cell_type": "markdown",
   "metadata": {},
   "source": [
    "### Problem 1: Understanding the Data\n",
    "\n",
    "To gain a better understanding of the data, please read the information provided in the UCI link above, and examine the **Materials and Methods** section of the paper.  How many marketing campaigns does this data represent?"
   ]
  },
  {
   "cell_type": "markdown",
   "metadata": {},
   "source": [
    "The data represents 17 marketing campaigns."
   ]
  },
  {
   "cell_type": "markdown",
   "metadata": {},
   "source": [
    "### Problem 2: Read in the Data\n",
    "\n",
    "Use pandas to read in the dataset `bank-additional-full.csv` and assign to a meaningful variable name."
   ]
  },
  {
   "cell_type": "code",
   "execution_count": 2,
   "metadata": {},
   "outputs": [],
   "source": [
    "import pandas as pd"
   ]
  },
  {
   "cell_type": "code",
   "execution_count": 3,
   "metadata": {},
   "outputs": [],
   "source": [
    "df = pd.read_csv('data/bank-additional-full.csv', sep = ';')"
   ]
  },
  {
   "cell_type": "code",
   "execution_count": 4,
   "metadata": {},
   "outputs": [
    {
     "data": {
      "text/html": [
       "<div>\n",
       "<style scoped>\n",
       "    .dataframe tbody tr th:only-of-type {\n",
       "        vertical-align: middle;\n",
       "    }\n",
       "\n",
       "    .dataframe tbody tr th {\n",
       "        vertical-align: top;\n",
       "    }\n",
       "\n",
       "    .dataframe thead th {\n",
       "        text-align: right;\n",
       "    }\n",
       "</style>\n",
       "<table border=\"1\" class=\"dataframe\">\n",
       "  <thead>\n",
       "    <tr style=\"text-align: right;\">\n",
       "      <th></th>\n",
       "      <th>age</th>\n",
       "      <th>job</th>\n",
       "      <th>marital</th>\n",
       "      <th>education</th>\n",
       "      <th>default</th>\n",
       "      <th>housing</th>\n",
       "      <th>loan</th>\n",
       "      <th>contact</th>\n",
       "      <th>month</th>\n",
       "      <th>day_of_week</th>\n",
       "      <th>...</th>\n",
       "      <th>campaign</th>\n",
       "      <th>pdays</th>\n",
       "      <th>previous</th>\n",
       "      <th>poutcome</th>\n",
       "      <th>emp.var.rate</th>\n",
       "      <th>cons.price.idx</th>\n",
       "      <th>cons.conf.idx</th>\n",
       "      <th>euribor3m</th>\n",
       "      <th>nr.employed</th>\n",
       "      <th>y</th>\n",
       "    </tr>\n",
       "  </thead>\n",
       "  <tbody>\n",
       "    <tr>\n",
       "      <th>0</th>\n",
       "      <td>56</td>\n",
       "      <td>housemaid</td>\n",
       "      <td>married</td>\n",
       "      <td>basic.4y</td>\n",
       "      <td>no</td>\n",
       "      <td>no</td>\n",
       "      <td>no</td>\n",
       "      <td>telephone</td>\n",
       "      <td>may</td>\n",
       "      <td>mon</td>\n",
       "      <td>...</td>\n",
       "      <td>1</td>\n",
       "      <td>999</td>\n",
       "      <td>0</td>\n",
       "      <td>nonexistent</td>\n",
       "      <td>1.1</td>\n",
       "      <td>93.994</td>\n",
       "      <td>-36.4</td>\n",
       "      <td>4.857</td>\n",
       "      <td>5191.0</td>\n",
       "      <td>no</td>\n",
       "    </tr>\n",
       "    <tr>\n",
       "      <th>1</th>\n",
       "      <td>57</td>\n",
       "      <td>services</td>\n",
       "      <td>married</td>\n",
       "      <td>high.school</td>\n",
       "      <td>unknown</td>\n",
       "      <td>no</td>\n",
       "      <td>no</td>\n",
       "      <td>telephone</td>\n",
       "      <td>may</td>\n",
       "      <td>mon</td>\n",
       "      <td>...</td>\n",
       "      <td>1</td>\n",
       "      <td>999</td>\n",
       "      <td>0</td>\n",
       "      <td>nonexistent</td>\n",
       "      <td>1.1</td>\n",
       "      <td>93.994</td>\n",
       "      <td>-36.4</td>\n",
       "      <td>4.857</td>\n",
       "      <td>5191.0</td>\n",
       "      <td>no</td>\n",
       "    </tr>\n",
       "    <tr>\n",
       "      <th>2</th>\n",
       "      <td>37</td>\n",
       "      <td>services</td>\n",
       "      <td>married</td>\n",
       "      <td>high.school</td>\n",
       "      <td>no</td>\n",
       "      <td>yes</td>\n",
       "      <td>no</td>\n",
       "      <td>telephone</td>\n",
       "      <td>may</td>\n",
       "      <td>mon</td>\n",
       "      <td>...</td>\n",
       "      <td>1</td>\n",
       "      <td>999</td>\n",
       "      <td>0</td>\n",
       "      <td>nonexistent</td>\n",
       "      <td>1.1</td>\n",
       "      <td>93.994</td>\n",
       "      <td>-36.4</td>\n",
       "      <td>4.857</td>\n",
       "      <td>5191.0</td>\n",
       "      <td>no</td>\n",
       "    </tr>\n",
       "    <tr>\n",
       "      <th>3</th>\n",
       "      <td>40</td>\n",
       "      <td>admin.</td>\n",
       "      <td>married</td>\n",
       "      <td>basic.6y</td>\n",
       "      <td>no</td>\n",
       "      <td>no</td>\n",
       "      <td>no</td>\n",
       "      <td>telephone</td>\n",
       "      <td>may</td>\n",
       "      <td>mon</td>\n",
       "      <td>...</td>\n",
       "      <td>1</td>\n",
       "      <td>999</td>\n",
       "      <td>0</td>\n",
       "      <td>nonexistent</td>\n",
       "      <td>1.1</td>\n",
       "      <td>93.994</td>\n",
       "      <td>-36.4</td>\n",
       "      <td>4.857</td>\n",
       "      <td>5191.0</td>\n",
       "      <td>no</td>\n",
       "    </tr>\n",
       "    <tr>\n",
       "      <th>4</th>\n",
       "      <td>56</td>\n",
       "      <td>services</td>\n",
       "      <td>married</td>\n",
       "      <td>high.school</td>\n",
       "      <td>no</td>\n",
       "      <td>no</td>\n",
       "      <td>yes</td>\n",
       "      <td>telephone</td>\n",
       "      <td>may</td>\n",
       "      <td>mon</td>\n",
       "      <td>...</td>\n",
       "      <td>1</td>\n",
       "      <td>999</td>\n",
       "      <td>0</td>\n",
       "      <td>nonexistent</td>\n",
       "      <td>1.1</td>\n",
       "      <td>93.994</td>\n",
       "      <td>-36.4</td>\n",
       "      <td>4.857</td>\n",
       "      <td>5191.0</td>\n",
       "      <td>no</td>\n",
       "    </tr>\n",
       "  </tbody>\n",
       "</table>\n",
       "<p>5 rows × 21 columns</p>\n",
       "</div>"
      ],
      "text/plain": [
       "   age        job  marital    education  default housing loan    contact  \\\n",
       "0   56  housemaid  married     basic.4y       no      no   no  telephone   \n",
       "1   57   services  married  high.school  unknown      no   no  telephone   \n",
       "2   37   services  married  high.school       no     yes   no  telephone   \n",
       "3   40     admin.  married     basic.6y       no      no   no  telephone   \n",
       "4   56   services  married  high.school       no      no  yes  telephone   \n",
       "\n",
       "  month day_of_week  ...  campaign  pdays  previous     poutcome emp.var.rate  \\\n",
       "0   may         mon  ...         1    999         0  nonexistent          1.1   \n",
       "1   may         mon  ...         1    999         0  nonexistent          1.1   \n",
       "2   may         mon  ...         1    999         0  nonexistent          1.1   \n",
       "3   may         mon  ...         1    999         0  nonexistent          1.1   \n",
       "4   may         mon  ...         1    999         0  nonexistent          1.1   \n",
       "\n",
       "   cons.price.idx  cons.conf.idx  euribor3m  nr.employed   y  \n",
       "0          93.994          -36.4      4.857       5191.0  no  \n",
       "1          93.994          -36.4      4.857       5191.0  no  \n",
       "2          93.994          -36.4      4.857       5191.0  no  \n",
       "3          93.994          -36.4      4.857       5191.0  no  \n",
       "4          93.994          -36.4      4.857       5191.0  no  \n",
       "\n",
       "[5 rows x 21 columns]"
      ]
     },
     "execution_count": 4,
     "metadata": {},
     "output_type": "execute_result"
    }
   ],
   "source": [
    "df.head()"
   ]
  },
  {
   "cell_type": "markdown",
   "metadata": {},
   "source": [
    "### Problem 3: Understanding the Features\n",
    "\n",
    "\n",
    "Examine the data description below, and determine if any of the features are missing values or need to be coerced to a different data type.\n",
    "\n",
    "\n",
    "```\n",
    "Input variables:\n",
    "# bank client data:\n",
    "1 - age (numeric)\n",
    "2 - job : type of job (categorical: 'admin.','blue-collar','entrepreneur','housemaid','management','retired','self-employed','services','student','technician','unemployed','unknown')\n",
    "3 - marital : marital status (categorical: 'divorced','married','single','unknown'; note: 'divorced' means divorced or widowed)\n",
    "4 - education (categorical: 'basic.4y','basic.6y','basic.9y','high.school','illiterate','professional.course','university.degree','unknown')\n",
    "5 - default: has credit in default? (categorical: 'no','yes','unknown')\n",
    "6 - housing: has housing loan? (categorical: 'no','yes','unknown')\n",
    "7 - loan: has personal loan? (categorical: 'no','yes','unknown')\n",
    "# related with the last contact of the current campaign:\n",
    "8 - contact: contact communication type (categorical: 'cellular','telephone')\n",
    "9 - month: last contact month of year (categorical: 'jan', 'feb', 'mar', ..., 'nov', 'dec')\n",
    "10 - day_of_week: last contact day of the week (categorical: 'mon','tue','wed','thu','fri')\n",
    "11 - duration: last contact duration, in seconds (numeric). Important note: this attribute highly affects the output target (e.g., if duration=0 then y='no'). Yet, the duration is not known before a call is performed. Also, after the end of the call y is obviously known. Thus, this input should only be included for benchmark purposes and should be discarded if the intention is to have a realistic predictive model.\n",
    "# other attributes:\n",
    "12 - campaign: number of contacts performed during this campaign and for this client (numeric, includes last contact)\n",
    "13 - pdays: number of days that passed by after the client was last contacted from a previous campaign (numeric; 999 means client was not previously contacted)\n",
    "14 - previous: number of contacts performed before this campaign and for this client (numeric)\n",
    "15 - poutcome: outcome of the previous marketing campaign (categorical: 'failure','nonexistent','success')\n",
    "# social and economic context attributes\n",
    "16 - emp.var.rate: employment variation rate - quarterly indicator (numeric)\n",
    "17 - cons.price.idx: consumer price index - monthly indicator (numeric)\n",
    "18 - cons.conf.idx: consumer confidence index - monthly indicator (numeric)\n",
    "19 - euribor3m: euribor 3 month rate - daily indicator (numeric)\n",
    "20 - nr.employed: number of employees - quarterly indicator (numeric)\n",
    "\n",
    "Output variable (desired target):\n",
    "21 - y - has the client subscribed a term deposit? (binary: 'yes','no')\n",
    "```\n",
    "\n"
   ]
  },
  {
   "cell_type": "markdown",
   "metadata": {},
   "source": [
    "### No. NAs"
   ]
  },
  {
   "cell_type": "markdown",
   "metadata": {},
   "source": [
    "No missing values -> no imputers are needed for this dataset."
   ]
  },
  {
   "cell_type": "code",
   "execution_count": 5,
   "metadata": {},
   "outputs": [
    {
     "data": {
      "text/html": [
       "<div>\n",
       "<style scoped>\n",
       "    .dataframe tbody tr th:only-of-type {\n",
       "        vertical-align: middle;\n",
       "    }\n",
       "\n",
       "    .dataframe tbody tr th {\n",
       "        vertical-align: top;\n",
       "    }\n",
       "\n",
       "    .dataframe thead th {\n",
       "        text-align: right;\n",
       "    }\n",
       "</style>\n",
       "<table border=\"1\" class=\"dataframe\">\n",
       "  <thead>\n",
       "    <tr style=\"text-align: right;\">\n",
       "      <th></th>\n",
       "      <th>no. non-NAs</th>\n",
       "      <th>no. NAs</th>\n",
       "      <th>NA fraction</th>\n",
       "    </tr>\n",
       "  </thead>\n",
       "  <tbody>\n",
       "    <tr>\n",
       "      <th>age</th>\n",
       "      <td>41188</td>\n",
       "      <td>0</td>\n",
       "      <td>0.0</td>\n",
       "    </tr>\n",
       "    <tr>\n",
       "      <th>job</th>\n",
       "      <td>41188</td>\n",
       "      <td>0</td>\n",
       "      <td>0.0</td>\n",
       "    </tr>\n",
       "    <tr>\n",
       "      <th>marital</th>\n",
       "      <td>41188</td>\n",
       "      <td>0</td>\n",
       "      <td>0.0</td>\n",
       "    </tr>\n",
       "    <tr>\n",
       "      <th>education</th>\n",
       "      <td>41188</td>\n",
       "      <td>0</td>\n",
       "      <td>0.0</td>\n",
       "    </tr>\n",
       "    <tr>\n",
       "      <th>default</th>\n",
       "      <td>41188</td>\n",
       "      <td>0</td>\n",
       "      <td>0.0</td>\n",
       "    </tr>\n",
       "    <tr>\n",
       "      <th>housing</th>\n",
       "      <td>41188</td>\n",
       "      <td>0</td>\n",
       "      <td>0.0</td>\n",
       "    </tr>\n",
       "    <tr>\n",
       "      <th>loan</th>\n",
       "      <td>41188</td>\n",
       "      <td>0</td>\n",
       "      <td>0.0</td>\n",
       "    </tr>\n",
       "    <tr>\n",
       "      <th>contact</th>\n",
       "      <td>41188</td>\n",
       "      <td>0</td>\n",
       "      <td>0.0</td>\n",
       "    </tr>\n",
       "    <tr>\n",
       "      <th>month</th>\n",
       "      <td>41188</td>\n",
       "      <td>0</td>\n",
       "      <td>0.0</td>\n",
       "    </tr>\n",
       "    <tr>\n",
       "      <th>day_of_week</th>\n",
       "      <td>41188</td>\n",
       "      <td>0</td>\n",
       "      <td>0.0</td>\n",
       "    </tr>\n",
       "    <tr>\n",
       "      <th>duration</th>\n",
       "      <td>41188</td>\n",
       "      <td>0</td>\n",
       "      <td>0.0</td>\n",
       "    </tr>\n",
       "    <tr>\n",
       "      <th>campaign</th>\n",
       "      <td>41188</td>\n",
       "      <td>0</td>\n",
       "      <td>0.0</td>\n",
       "    </tr>\n",
       "    <tr>\n",
       "      <th>pdays</th>\n",
       "      <td>41188</td>\n",
       "      <td>0</td>\n",
       "      <td>0.0</td>\n",
       "    </tr>\n",
       "    <tr>\n",
       "      <th>previous</th>\n",
       "      <td>41188</td>\n",
       "      <td>0</td>\n",
       "      <td>0.0</td>\n",
       "    </tr>\n",
       "    <tr>\n",
       "      <th>poutcome</th>\n",
       "      <td>41188</td>\n",
       "      <td>0</td>\n",
       "      <td>0.0</td>\n",
       "    </tr>\n",
       "    <tr>\n",
       "      <th>emp.var.rate</th>\n",
       "      <td>41188</td>\n",
       "      <td>0</td>\n",
       "      <td>0.0</td>\n",
       "    </tr>\n",
       "    <tr>\n",
       "      <th>cons.price.idx</th>\n",
       "      <td>41188</td>\n",
       "      <td>0</td>\n",
       "      <td>0.0</td>\n",
       "    </tr>\n",
       "    <tr>\n",
       "      <th>cons.conf.idx</th>\n",
       "      <td>41188</td>\n",
       "      <td>0</td>\n",
       "      <td>0.0</td>\n",
       "    </tr>\n",
       "    <tr>\n",
       "      <th>euribor3m</th>\n",
       "      <td>41188</td>\n",
       "      <td>0</td>\n",
       "      <td>0.0</td>\n",
       "    </tr>\n",
       "    <tr>\n",
       "      <th>nr.employed</th>\n",
       "      <td>41188</td>\n",
       "      <td>0</td>\n",
       "      <td>0.0</td>\n",
       "    </tr>\n",
       "    <tr>\n",
       "      <th>y</th>\n",
       "      <td>41188</td>\n",
       "      <td>0</td>\n",
       "      <td>0.0</td>\n",
       "    </tr>\n",
       "  </tbody>\n",
       "</table>\n",
       "</div>"
      ],
      "text/plain": [
       "                no. non-NAs  no. NAs  NA fraction\n",
       "age                   41188        0          0.0\n",
       "job                   41188        0          0.0\n",
       "marital               41188        0          0.0\n",
       "education             41188        0          0.0\n",
       "default               41188        0          0.0\n",
       "housing               41188        0          0.0\n",
       "loan                  41188        0          0.0\n",
       "contact               41188        0          0.0\n",
       "month                 41188        0          0.0\n",
       "day_of_week           41188        0          0.0\n",
       "duration              41188        0          0.0\n",
       "campaign              41188        0          0.0\n",
       "pdays                 41188        0          0.0\n",
       "previous              41188        0          0.0\n",
       "poutcome              41188        0          0.0\n",
       "emp.var.rate          41188        0          0.0\n",
       "cons.price.idx        41188        0          0.0\n",
       "cons.conf.idx         41188        0          0.0\n",
       "euribor3m             41188        0          0.0\n",
       "nr.employed           41188        0          0.0\n",
       "y                     41188        0          0.0"
      ]
     },
     "metadata": {},
     "output_type": "display_data"
    }
   ],
   "source": [
    "# no. NAs\n",
    "\n",
    "df_nas = pd.DataFrame([(~df.isnull()).sum(), \n",
    "                        df.isnull().sum()], index=['no. non-NAs', 'no. NAs']).transpose()\n",
    "df_nas['NA fraction'] = df_nas['no. NAs'] / (df_nas['no. NAs'] + df_nas['no. non-NAs'])\n",
    "\n",
    "display(df_nas)"
   ]
  },
  {
   "cell_type": "markdown",
   "metadata": {},
   "source": [
    "### Categorical column cardinalities"
   ]
  },
  {
   "cell_type": "markdown",
   "metadata": {},
   "source": [
    "No categorical features with large cardinalities -> mean target encoding or embedding vectors are not required"
   ]
  },
  {
   "cell_type": "code",
   "execution_count": 6,
   "metadata": {},
   "outputs": [
    {
     "name": "stdout",
     "output_type": "stream",
     "text": [
      "job            12\n",
      "marital         4\n",
      "education       8\n",
      "default         3\n",
      "housing         3\n",
      "loan            3\n",
      "contact         2\n",
      "month          10\n",
      "day_of_week     5\n",
      "poutcome        3\n",
      "y               2\n",
      "dtype: int64\n"
     ]
    }
   ],
   "source": [
    "df_cardin = pd.Series({column: len(set(df[column])) \n",
    "                       for column in df.columns if df[column].dtype == 'object'})\n",
    "\n",
    "print(df_cardin)"
   ]
  },
  {
   "cell_type": "markdown",
   "metadata": {},
   "source": [
    "### Problem 4: Understanding the Task\n",
    "\n",
    "After examining the description and data, your goal now is to clearly state the *Business Objective* of the task.  State the objective below."
   ]
  },
  {
   "cell_type": "markdown",
   "metadata": {},
   "source": [
    "The dataset contains information related to direct marketing campaigns (phone calls) of a Portuguese banking institution. The business objective associated with this dataset is to improve the effectiveness of marketing campaigns and maximize the return on investment (ROI) for the bank."
   ]
  },
  {
   "cell_type": "code",
   "execution_count": 7,
   "metadata": {},
   "outputs": [
    {
     "name": "stdout",
     "output_type": "stream",
     "text": [
      "<class 'pandas.core.frame.DataFrame'>\n",
      "RangeIndex: 41188 entries, 0 to 41187\n",
      "Data columns (total 21 columns):\n",
      " #   Column          Non-Null Count  Dtype  \n",
      "---  ------          --------------  -----  \n",
      " 0   age             41188 non-null  int64  \n",
      " 1   job             41188 non-null  object \n",
      " 2   marital         41188 non-null  object \n",
      " 3   education       41188 non-null  object \n",
      " 4   default         41188 non-null  object \n",
      " 5   housing         41188 non-null  object \n",
      " 6   loan            41188 non-null  object \n",
      " 7   contact         41188 non-null  object \n",
      " 8   month           41188 non-null  object \n",
      " 9   day_of_week     41188 non-null  object \n",
      " 10  duration        41188 non-null  int64  \n",
      " 11  campaign        41188 non-null  int64  \n",
      " 12  pdays           41188 non-null  int64  \n",
      " 13  previous        41188 non-null  int64  \n",
      " 14  poutcome        41188 non-null  object \n",
      " 15  emp.var.rate    41188 non-null  float64\n",
      " 16  cons.price.idx  41188 non-null  float64\n",
      " 17  cons.conf.idx   41188 non-null  float64\n",
      " 18  euribor3m       41188 non-null  float64\n",
      " 19  nr.employed     41188 non-null  float64\n",
      " 20  y               41188 non-null  object \n",
      "dtypes: float64(5), int64(5), object(11)\n",
      "memory usage: 6.6+ MB\n"
     ]
    }
   ],
   "source": [
    "df.info()"
   ]
  },
  {
   "cell_type": "code",
   "execution_count": null,
   "metadata": {},
   "outputs": [],
   "source": []
  },
  {
   "cell_type": "code",
   "execution_count": null,
   "metadata": {},
   "outputs": [],
   "source": []
  },
  {
   "cell_type": "markdown",
   "metadata": {},
   "source": [
    "### Problem 5: Engineering Features\n",
    "\n",
    "Now that you understand your business objective, we will build a basic model to get started.  Before we can do this, we must work to encode the data.  Using just the bank information features (columns 1 - 7), prepare the features and target column for modeling with appropriate encoding and transformations."
   ]
  },
  {
   "cell_type": "markdown",
   "metadata": {},
   "source": [
    "Since there are no features with large cardinality, all features are used instead of only the first seven."
   ]
  },
  {
   "cell_type": "markdown",
   "metadata": {},
   "source": [
    "### Average term deposit rate"
   ]
  },
  {
   "cell_type": "markdown",
   "metadata": {},
   "source": [
    "Dataset has imbalanced classes."
   ]
  },
  {
   "cell_type": "code",
   "execution_count": 9,
   "metadata": {},
   "outputs": [
    {
     "name": "stdout",
     "output_type": "stream",
     "text": [
      "output variable values:  {'no', 'yes'}\n"
     ]
    }
   ],
   "source": [
    "print('output variable values: ', set(df['y']))"
   ]
  },
  {
   "cell_type": "code",
   "execution_count": 10,
   "metadata": {},
   "outputs": [
    {
     "name": "stdout",
     "output_type": "stream",
     "text": [
      "Average deposit rate:  0.11265417111780131\n"
     ]
    }
   ],
   "source": [
    "import numpy as np\n",
    "\n",
    "mapping = {'no': 0,\n",
    "           'yes': 1}\n",
    "\n",
    "df['y'] = df['y'].replace(mapping)\n",
    "\n",
    "print('Average deposit rate: ', np.mean(df['y']))"
   ]
  },
  {
   "cell_type": "markdown",
   "metadata": {},
   "source": [
    "### Collecting numerical and categorical features"
   ]
  },
  {
   "cell_type": "code",
   "execution_count": 11,
   "metadata": {},
   "outputs": [],
   "source": [
    "X = df.drop(['y'], axis=1)\n",
    "y = df['y']\n",
    "\n",
    "cols = X.columns\n",
    "num_cols = X._get_numeric_data().columns\n",
    "cat_cols = list(set(cols) - set(num_cols))"
   ]
  },
  {
   "cell_type": "markdown",
   "metadata": {},
   "source": [
    "### Feature handling"
   ]
  },
  {
   "cell_type": "code",
   "execution_count": 12,
   "metadata": {},
   "outputs": [],
   "source": [
    "from sklearn import set_config\n",
    "from sklearn.compose import ColumnTransformer\n",
    "from sklearn.pipeline import Pipeline\n",
    "from sklearn.preprocessing import StandardScaler, OneHotEncoder, PolynomialFeatures\n",
    "from sklearn.neighbors import KNeighborsClassifier\n",
    "from sklearn.model_selection import GridSearchCV\n",
    "\n",
    "# use feature standardization for numerical features and one-hot-encoding for categorical features\n",
    "featureTransformer = ColumnTransformer(\n",
    "    transformers=[\n",
    "        ('num', Pipeline(steps=[\n",
    "            ('scaler', StandardScaler())\n",
    "        ]), num_cols),\n",
    "        ('cat', Pipeline(steps=[\n",
    "            ('encoder', OneHotEncoder(handle_unknown='ignore'))\n",
    "        ]), cat_cols)\n",
    "    ],\n",
    "    remainder='passthrough'\n",
    ")"
   ]
  },
  {
   "cell_type": "markdown",
   "metadata": {},
   "source": [
    "### Problem 6: Train/Test Split\n",
    "\n",
    "With your data prepared, split it into a train and test set."
   ]
  },
  {
   "cell_type": "code",
   "execution_count": 13,
   "metadata": {},
   "outputs": [],
   "source": [
    "from sklearn.model_selection import train_test_split\n",
    "\n",
    "X_train, X_test, y_train, y_test = train_test_split(X, y, test_size=0.3)"
   ]
  },
  {
   "cell_type": "markdown",
   "metadata": {},
   "source": [
    "### Problem 7: A Baseline Model\n",
    "\n",
    "Before we build our first model, we want to establish a baseline.  What is the baseline performance that our classifier should aim to beat?"
   ]
  },
  {
   "cell_type": "markdown",
   "metadata": {},
   "source": [
    "Since the classes are imbalanced, a baseline classifier could be one that always predicts the majority class (i.e. no subscription to a term deposit)."
   ]
  },
  {
   "cell_type": "code",
   "execution_count": 14,
   "metadata": {},
   "outputs": [],
   "source": [
    "baseline_pred_train = np.zeros(y_train.shape)\n",
    "baseline_pred_test = np.zeros(y_test.shape)"
   ]
  },
  {
   "cell_type": "code",
   "execution_count": 15,
   "metadata": {},
   "outputs": [
    {
     "name": "stdout",
     "output_type": "stream",
     "text": [
      "baseline train accuracy:  0.8880024973119212\n",
      "baseline test accuracy:  0.8858137088290038\n"
     ]
    }
   ],
   "source": [
    "from sklearn.metrics import accuracy_score\n",
    "\n",
    "print('baseline train accuracy: ', accuracy_score(y_train, baseline_pred_train))\n",
    "print('baseline test accuracy: ', accuracy_score(y_test, baseline_pred_test))"
   ]
  },
  {
   "cell_type": "markdown",
   "metadata": {},
   "source": [
    "### Problem 8: A Simple Model\n",
    "\n",
    "Use Logistic Regression to build a basic model on your data.  "
   ]
  },
  {
   "cell_type": "code",
   "execution_count": 16,
   "metadata": {},
   "outputs": [
    {
     "data": {
      "text/html": [
       "<style>#sk-2fc58238-bfad-4a94-b893-df00608add0b {color: black;background-color: white;}#sk-2fc58238-bfad-4a94-b893-df00608add0b pre{padding: 0;}#sk-2fc58238-bfad-4a94-b893-df00608add0b div.sk-toggleable {background-color: white;}#sk-2fc58238-bfad-4a94-b893-df00608add0b label.sk-toggleable__label {cursor: pointer;display: block;width: 100%;margin-bottom: 0;padding: 0.3em;box-sizing: border-box;text-align: center;}#sk-2fc58238-bfad-4a94-b893-df00608add0b label.sk-toggleable__label-arrow:before {content: \"▸\";float: left;margin-right: 0.25em;color: #696969;}#sk-2fc58238-bfad-4a94-b893-df00608add0b label.sk-toggleable__label-arrow:hover:before {color: black;}#sk-2fc58238-bfad-4a94-b893-df00608add0b div.sk-estimator:hover label.sk-toggleable__label-arrow:before {color: black;}#sk-2fc58238-bfad-4a94-b893-df00608add0b div.sk-toggleable__content {max-height: 0;max-width: 0;overflow: hidden;text-align: left;background-color: #f0f8ff;}#sk-2fc58238-bfad-4a94-b893-df00608add0b div.sk-toggleable__content pre {margin: 0.2em;color: black;border-radius: 0.25em;background-color: #f0f8ff;}#sk-2fc58238-bfad-4a94-b893-df00608add0b input.sk-toggleable__control:checked~div.sk-toggleable__content {max-height: 200px;max-width: 100%;overflow: auto;}#sk-2fc58238-bfad-4a94-b893-df00608add0b input.sk-toggleable__control:checked~label.sk-toggleable__label-arrow:before {content: \"▾\";}#sk-2fc58238-bfad-4a94-b893-df00608add0b div.sk-estimator input.sk-toggleable__control:checked~label.sk-toggleable__label {background-color: #d4ebff;}#sk-2fc58238-bfad-4a94-b893-df00608add0b div.sk-label input.sk-toggleable__control:checked~label.sk-toggleable__label {background-color: #d4ebff;}#sk-2fc58238-bfad-4a94-b893-df00608add0b input.sk-hidden--visually {border: 0;clip: rect(1px 1px 1px 1px);clip: rect(1px, 1px, 1px, 1px);height: 1px;margin: -1px;overflow: hidden;padding: 0;position: absolute;width: 1px;}#sk-2fc58238-bfad-4a94-b893-df00608add0b div.sk-estimator {font-family: monospace;background-color: #f0f8ff;border: 1px dotted black;border-radius: 0.25em;box-sizing: border-box;margin-bottom: 0.5em;}#sk-2fc58238-bfad-4a94-b893-df00608add0b div.sk-estimator:hover {background-color: #d4ebff;}#sk-2fc58238-bfad-4a94-b893-df00608add0b div.sk-parallel-item::after {content: \"\";width: 100%;border-bottom: 1px solid gray;flex-grow: 1;}#sk-2fc58238-bfad-4a94-b893-df00608add0b div.sk-label:hover label.sk-toggleable__label {background-color: #d4ebff;}#sk-2fc58238-bfad-4a94-b893-df00608add0b div.sk-serial::before {content: \"\";position: absolute;border-left: 1px solid gray;box-sizing: border-box;top: 2em;bottom: 0;left: 50%;}#sk-2fc58238-bfad-4a94-b893-df00608add0b div.sk-serial {display: flex;flex-direction: column;align-items: center;background-color: white;padding-right: 0.2em;padding-left: 0.2em;}#sk-2fc58238-bfad-4a94-b893-df00608add0b div.sk-item {z-index: 1;}#sk-2fc58238-bfad-4a94-b893-df00608add0b div.sk-parallel {display: flex;align-items: stretch;justify-content: center;background-color: white;}#sk-2fc58238-bfad-4a94-b893-df00608add0b div.sk-parallel::before {content: \"\";position: absolute;border-left: 1px solid gray;box-sizing: border-box;top: 2em;bottom: 0;left: 50%;}#sk-2fc58238-bfad-4a94-b893-df00608add0b div.sk-parallel-item {display: flex;flex-direction: column;position: relative;background-color: white;}#sk-2fc58238-bfad-4a94-b893-df00608add0b div.sk-parallel-item:first-child::after {align-self: flex-end;width: 50%;}#sk-2fc58238-bfad-4a94-b893-df00608add0b div.sk-parallel-item:last-child::after {align-self: flex-start;width: 50%;}#sk-2fc58238-bfad-4a94-b893-df00608add0b div.sk-parallel-item:only-child::after {width: 0;}#sk-2fc58238-bfad-4a94-b893-df00608add0b div.sk-dashed-wrapped {border: 1px dashed gray;margin: 0 0.4em 0.5em 0.4em;box-sizing: border-box;padding-bottom: 0.4em;background-color: white;position: relative;}#sk-2fc58238-bfad-4a94-b893-df00608add0b div.sk-label label {font-family: monospace;font-weight: bold;background-color: white;display: inline-block;line-height: 1.2em;}#sk-2fc58238-bfad-4a94-b893-df00608add0b div.sk-label-container {position: relative;z-index: 2;text-align: center;}#sk-2fc58238-bfad-4a94-b893-df00608add0b div.sk-container {/* jupyter's `normalize.less` sets `[hidden] { display: none; }` but bootstrap.min.css set `[hidden] { display: none !important; }` so we also need the `!important` here to be able to override the default hidden behavior on the sphinx rendered scikit-learn.org. See: https://github.com/scikit-learn/scikit-learn/issues/21755 */display: inline-block !important;position: relative;}#sk-2fc58238-bfad-4a94-b893-df00608add0b div.sk-text-repr-fallback {display: none;}</style><div id=\"sk-2fc58238-bfad-4a94-b893-df00608add0b\" class=\"sk-top-container\"><div class=\"sk-text-repr-fallback\"><pre>Pipeline(steps=[(&#x27;featureTransformer&#x27;,\n",
       "                 ColumnTransformer(remainder=&#x27;passthrough&#x27;,\n",
       "                                   transformers=[(&#x27;num&#x27;,\n",
       "                                                  Pipeline(steps=[(&#x27;scaler&#x27;,\n",
       "                                                                   StandardScaler())]),\n",
       "                                                  Index([&#x27;age&#x27;, &#x27;duration&#x27;, &#x27;campaign&#x27;, &#x27;pdays&#x27;, &#x27;previous&#x27;, &#x27;emp.var.rate&#x27;,\n",
       "       &#x27;cons.price.idx&#x27;, &#x27;cons.conf.idx&#x27;, &#x27;euribor3m&#x27;, &#x27;nr.employed&#x27;],\n",
       "      dtype=&#x27;object&#x27;)),\n",
       "                                                 (&#x27;cat&#x27;,\n",
       "                                                  Pipeline(steps=[(&#x27;encoder&#x27;,\n",
       "                                                                   OneHotEncoder(handle_unknown=&#x27;ignore&#x27;))]),\n",
       "                                                  [&#x27;loan&#x27;, &#x27;education&#x27;,\n",
       "                                                   &#x27;contact&#x27;, &#x27;day_of_week&#x27;,\n",
       "                                                   &#x27;housing&#x27;, &#x27;month&#x27;,\n",
       "                                                   &#x27;default&#x27;, &#x27;poutcome&#x27;, &#x27;job&#x27;,\n",
       "                                                   &#x27;marital&#x27;])])),\n",
       "                (&#x27;model&#x27;, LogisticRegression(max_iter=1000))])</pre><b>Please rerun this cell to show the HTML repr or trust the notebook.</b></div><div class=\"sk-container\" hidden><div class=\"sk-item sk-dashed-wrapped\"><div class=\"sk-label-container\"><div class=\"sk-label sk-toggleable\"><input class=\"sk-toggleable__control sk-hidden--visually\" id=\"59ea17b1-c66f-4f3b-8018-029d48238c9a\" type=\"checkbox\" ><label for=\"59ea17b1-c66f-4f3b-8018-029d48238c9a\" class=\"sk-toggleable__label sk-toggleable__label-arrow\">Pipeline</label><div class=\"sk-toggleable__content\"><pre>Pipeline(steps=[(&#x27;featureTransformer&#x27;,\n",
       "                 ColumnTransformer(remainder=&#x27;passthrough&#x27;,\n",
       "                                   transformers=[(&#x27;num&#x27;,\n",
       "                                                  Pipeline(steps=[(&#x27;scaler&#x27;,\n",
       "                                                                   StandardScaler())]),\n",
       "                                                  Index([&#x27;age&#x27;, &#x27;duration&#x27;, &#x27;campaign&#x27;, &#x27;pdays&#x27;, &#x27;previous&#x27;, &#x27;emp.var.rate&#x27;,\n",
       "       &#x27;cons.price.idx&#x27;, &#x27;cons.conf.idx&#x27;, &#x27;euribor3m&#x27;, &#x27;nr.employed&#x27;],\n",
       "      dtype=&#x27;object&#x27;)),\n",
       "                                                 (&#x27;cat&#x27;,\n",
       "                                                  Pipeline(steps=[(&#x27;encoder&#x27;,\n",
       "                                                                   OneHotEncoder(handle_unknown=&#x27;ignore&#x27;))]),\n",
       "                                                  [&#x27;loan&#x27;, &#x27;education&#x27;,\n",
       "                                                   &#x27;contact&#x27;, &#x27;day_of_week&#x27;,\n",
       "                                                   &#x27;housing&#x27;, &#x27;month&#x27;,\n",
       "                                                   &#x27;default&#x27;, &#x27;poutcome&#x27;, &#x27;job&#x27;,\n",
       "                                                   &#x27;marital&#x27;])])),\n",
       "                (&#x27;model&#x27;, LogisticRegression(max_iter=1000))])</pre></div></div></div><div class=\"sk-serial\"><div class=\"sk-item sk-dashed-wrapped\"><div class=\"sk-label-container\"><div class=\"sk-label sk-toggleable\"><input class=\"sk-toggleable__control sk-hidden--visually\" id=\"2486c4bb-6ecf-4cef-be7d-dc93710cd359\" type=\"checkbox\" ><label for=\"2486c4bb-6ecf-4cef-be7d-dc93710cd359\" class=\"sk-toggleable__label sk-toggleable__label-arrow\">featureTransformer: ColumnTransformer</label><div class=\"sk-toggleable__content\"><pre>ColumnTransformer(remainder=&#x27;passthrough&#x27;,\n",
       "                  transformers=[(&#x27;num&#x27;,\n",
       "                                 Pipeline(steps=[(&#x27;scaler&#x27;, StandardScaler())]),\n",
       "                                 Index([&#x27;age&#x27;, &#x27;duration&#x27;, &#x27;campaign&#x27;, &#x27;pdays&#x27;, &#x27;previous&#x27;, &#x27;emp.var.rate&#x27;,\n",
       "       &#x27;cons.price.idx&#x27;, &#x27;cons.conf.idx&#x27;, &#x27;euribor3m&#x27;, &#x27;nr.employed&#x27;],\n",
       "      dtype=&#x27;object&#x27;)),\n",
       "                                (&#x27;cat&#x27;,\n",
       "                                 Pipeline(steps=[(&#x27;encoder&#x27;,\n",
       "                                                  OneHotEncoder(handle_unknown=&#x27;ignore&#x27;))]),\n",
       "                                 [&#x27;loan&#x27;, &#x27;education&#x27;, &#x27;contact&#x27;, &#x27;day_of_week&#x27;,\n",
       "                                  &#x27;housing&#x27;, &#x27;month&#x27;, &#x27;default&#x27;, &#x27;poutcome&#x27;,\n",
       "                                  &#x27;job&#x27;, &#x27;marital&#x27;])])</pre></div></div></div><div class=\"sk-parallel\"><div class=\"sk-parallel-item\"><div class=\"sk-item\"><div class=\"sk-label-container\"><div class=\"sk-label sk-toggleable\"><input class=\"sk-toggleable__control sk-hidden--visually\" id=\"c6feb4c2-d3dc-489c-bf83-04f0fa711fd3\" type=\"checkbox\" ><label for=\"c6feb4c2-d3dc-489c-bf83-04f0fa711fd3\" class=\"sk-toggleable__label sk-toggleable__label-arrow\">num</label><div class=\"sk-toggleable__content\"><pre>Index([&#x27;age&#x27;, &#x27;duration&#x27;, &#x27;campaign&#x27;, &#x27;pdays&#x27;, &#x27;previous&#x27;, &#x27;emp.var.rate&#x27;,\n",
       "       &#x27;cons.price.idx&#x27;, &#x27;cons.conf.idx&#x27;, &#x27;euribor3m&#x27;, &#x27;nr.employed&#x27;],\n",
       "      dtype=&#x27;object&#x27;)</pre></div></div></div><div class=\"sk-serial\"><div class=\"sk-item\"><div class=\"sk-serial\"><div class=\"sk-item\"><div class=\"sk-estimator sk-toggleable\"><input class=\"sk-toggleable__control sk-hidden--visually\" id=\"8281bb01-2cf6-40b0-8727-909ee02a2e04\" type=\"checkbox\" ><label for=\"8281bb01-2cf6-40b0-8727-909ee02a2e04\" class=\"sk-toggleable__label sk-toggleable__label-arrow\">StandardScaler</label><div class=\"sk-toggleable__content\"><pre>StandardScaler()</pre></div></div></div></div></div></div></div></div><div class=\"sk-parallel-item\"><div class=\"sk-item\"><div class=\"sk-label-container\"><div class=\"sk-label sk-toggleable\"><input class=\"sk-toggleable__control sk-hidden--visually\" id=\"1114dac7-50a1-4ec3-9f20-10ddcfcdc040\" type=\"checkbox\" ><label for=\"1114dac7-50a1-4ec3-9f20-10ddcfcdc040\" class=\"sk-toggleable__label sk-toggleable__label-arrow\">cat</label><div class=\"sk-toggleable__content\"><pre>[&#x27;loan&#x27;, &#x27;education&#x27;, &#x27;contact&#x27;, &#x27;day_of_week&#x27;, &#x27;housing&#x27;, &#x27;month&#x27;, &#x27;default&#x27;, &#x27;poutcome&#x27;, &#x27;job&#x27;, &#x27;marital&#x27;]</pre></div></div></div><div class=\"sk-serial\"><div class=\"sk-item\"><div class=\"sk-serial\"><div class=\"sk-item\"><div class=\"sk-estimator sk-toggleable\"><input class=\"sk-toggleable__control sk-hidden--visually\" id=\"4c66a540-50c6-4896-8526-30ef5fec9fcd\" type=\"checkbox\" ><label for=\"4c66a540-50c6-4896-8526-30ef5fec9fcd\" class=\"sk-toggleable__label sk-toggleable__label-arrow\">OneHotEncoder</label><div class=\"sk-toggleable__content\"><pre>OneHotEncoder(handle_unknown=&#x27;ignore&#x27;)</pre></div></div></div></div></div></div></div></div><div class=\"sk-parallel-item\"><div class=\"sk-item\"><div class=\"sk-label-container\"><div class=\"sk-label sk-toggleable\"><input class=\"sk-toggleable__control sk-hidden--visually\" id=\"81362c7c-97cf-4c45-850e-d5a42219d62a\" type=\"checkbox\" ><label for=\"81362c7c-97cf-4c45-850e-d5a42219d62a\" class=\"sk-toggleable__label sk-toggleable__label-arrow\">remainder</label><div class=\"sk-toggleable__content\"><pre>[]</pre></div></div></div><div class=\"sk-serial\"><div class=\"sk-item\"><div class=\"sk-estimator sk-toggleable\"><input class=\"sk-toggleable__control sk-hidden--visually\" id=\"ff80d195-9a2c-4cf9-890e-098c99f0c8d2\" type=\"checkbox\" ><label for=\"ff80d195-9a2c-4cf9-890e-098c99f0c8d2\" class=\"sk-toggleable__label sk-toggleable__label-arrow\">passthrough</label><div class=\"sk-toggleable__content\"><pre>passthrough</pre></div></div></div></div></div></div></div></div><div class=\"sk-item\"><div class=\"sk-estimator sk-toggleable\"><input class=\"sk-toggleable__control sk-hidden--visually\" id=\"e9dca8a8-c096-4cb3-a7d9-59e10b973844\" type=\"checkbox\" ><label for=\"e9dca8a8-c096-4cb3-a7d9-59e10b973844\" class=\"sk-toggleable__label sk-toggleable__label-arrow\">LogisticRegression</label><div class=\"sk-toggleable__content\"><pre>LogisticRegression(max_iter=1000)</pre></div></div></div></div></div></div></div>"
      ],
      "text/plain": [
       "Pipeline(steps=[('featureTransformer',\n",
       "                 ColumnTransformer(remainder='passthrough',\n",
       "                                   transformers=[('num',\n",
       "                                                  Pipeline(steps=[('scaler',\n",
       "                                                                   StandardScaler())]),\n",
       "                                                  Index(['age', 'duration', 'campaign', 'pdays', 'previous', 'emp.var.rate',\n",
       "       'cons.price.idx', 'cons.conf.idx', 'euribor3m', 'nr.employed'],\n",
       "      dtype='object')),\n",
       "                                                 ('cat',\n",
       "                                                  Pipeline(steps=[('encoder',\n",
       "                                                                   OneHotEncoder(handle_unknown='ignore'))]),\n",
       "                                                  ['loan', 'education',\n",
       "                                                   'contact', 'day_of_week',\n",
       "                                                   'housing', 'month',\n",
       "                                                   'default', 'poutcome', 'job',\n",
       "                                                   'marital'])])),\n",
       "                ('model', LogisticRegression(max_iter=1000))])"
      ]
     },
     "metadata": {},
     "output_type": "display_data"
    }
   ],
   "source": [
    "from sklearn.linear_model import LogisticRegression\n",
    "\n",
    "# max iteration limit needs to be increased for this dataset\n",
    "model = LogisticRegression(max_iter=1000)\n",
    "\n",
    "# for this first simple model, no grid search exploration of hyper-parameters is used.\n",
    "pipe = Pipeline([('featureTransformer', featureTransformer),\n",
    "                 ('model', model)])\n",
    "\n",
    "pipe.fit(X_train, y_train)\n",
    "\n",
    "# display pipline\n",
    "set_config(display=\"diagram\")\n",
    "display(pipe)    "
   ]
  },
  {
   "cell_type": "markdown",
   "metadata": {},
   "source": [
    "### Problem 9: Score the Model\n",
    "\n",
    "What is the accuracy of your model?"
   ]
  },
  {
   "cell_type": "code",
   "execution_count": 17,
   "metadata": {},
   "outputs": [
    {
     "name": "stdout",
     "output_type": "stream",
     "text": [
      "accuracy:  0.9123573682932751\n",
      "log-loss:  0.2075460443488563\n",
      "ROC-AUC:  0.9386514793387498\n",
      "PR-AUC:  0.6062171326304615 0.6067901862555148\n"
     ]
    }
   ],
   "source": [
    "from sklearn.metrics import log_loss, roc_auc_score, auc, accuracy_score, average_precision_score, \\\n",
    "                            precision_recall_curve, roc_curve\n",
    "\n",
    "pred = pipe.predict_proba(X_test)[:, 1]\n",
    "pred_binary = pipe.predict(X_test)\n",
    "\n",
    "# Data to plot precision - recall curve\n",
    "precision, recall, thresholds = precision_recall_curve(y_test, pred)\n",
    "PR_AUC = auc(recall, precision)\n",
    "\n",
    "# besides accuracy (which depends on threshold setting), also calculate\n",
    "# more fundamental metrics of log-loss, ROC-AUC, and PR-AUC\n",
    "print('accuracy: ', accuracy_score(y_test, pred_binary))\n",
    "print('log-loss: ', log_loss(y_test, pred))\n",
    "print('ROC-AUC: ', roc_auc_score(y_test, pred))\n",
    "\n",
    "# 2 different methods for calculating PR-AUC\n",
    "print('PR-AUC: ', PR_AUC, average_precision_score(y_test, pred))"
   ]
  },
  {
   "cell_type": "markdown",
   "metadata": {},
   "source": [
    "### Problem 10: Model Comparisons\n",
    "\n",
    "Now, we aim to compare the performance of the Logistic Regression model to our KNN algorithm, Decision Tree, and SVM models.  Using the default settings for each of the models, fit and score each.  Also, be sure to compare the fit time of each of the models.  Present your findings in a `DataFrame` similar to that below:\n",
    "\n",
    "| Model | Train Time | Train Accuracy | Test Accuracy |\n",
    "| ----- | ---------- | -------------  | -----------   |\n",
    "|     |    |.     |.     |"
   ]
  },
  {
   "cell_type": "markdown",
   "metadata": {},
   "source": [
    "SVM has the longest training time, as it is more complex than the other models."
   ]
  },
  {
   "cell_type": "code",
   "execution_count": 18,
   "metadata": {},
   "outputs": [
    {
     "data": {
      "text/html": [
       "<div>\n",
       "<style scoped>\n",
       "    .dataframe tbody tr th:only-of-type {\n",
       "        vertical-align: middle;\n",
       "    }\n",
       "\n",
       "    .dataframe tbody tr th {\n",
       "        vertical-align: top;\n",
       "    }\n",
       "\n",
       "    .dataframe thead th {\n",
       "        text-align: right;\n",
       "    }\n",
       "</style>\n",
       "<table border=\"1\" class=\"dataframe\">\n",
       "  <thead>\n",
       "    <tr style=\"text-align: right;\">\n",
       "      <th></th>\n",
       "      <th>Model</th>\n",
       "      <th>Train Time</th>\n",
       "      <th>Train Accuracy</th>\n",
       "      <th>Test Accuracy</th>\n",
       "    </tr>\n",
       "  </thead>\n",
       "  <tbody>\n",
       "    <tr>\n",
       "      <th>0</th>\n",
       "      <td>LogisticRegression</td>\n",
       "      <td>0.311137</td>\n",
       "      <td>0.910756</td>\n",
       "      <td>0.912357</td>\n",
       "    </tr>\n",
       "    <tr>\n",
       "      <th>1</th>\n",
       "      <td>KNN</td>\n",
       "      <td>0.061059</td>\n",
       "      <td>0.928514</td>\n",
       "      <td>0.901756</td>\n",
       "    </tr>\n",
       "    <tr>\n",
       "      <th>2</th>\n",
       "      <td>DecisionTree</td>\n",
       "      <td>0.193467</td>\n",
       "      <td>1.000000</td>\n",
       "      <td>0.887432</td>\n",
       "    </tr>\n",
       "    <tr>\n",
       "      <th>3</th>\n",
       "      <td>SVM</td>\n",
       "      <td>8.474789</td>\n",
       "      <td>0.924526</td>\n",
       "      <td>0.911386</td>\n",
       "    </tr>\n",
       "  </tbody>\n",
       "</table>\n",
       "</div>"
      ],
      "text/plain": [
       "                Model  Train Time  Train Accuracy  Test Accuracy\n",
       "0  LogisticRegression    0.311137        0.910756       0.912357\n",
       "1                 KNN    0.061059        0.928514       0.901756\n",
       "2        DecisionTree    0.193467        1.000000       0.887432\n",
       "3                 SVM    8.474789        0.924526       0.911386"
      ]
     },
     "metadata": {},
     "output_type": "display_data"
    }
   ],
   "source": [
    "from sklearn.tree import DecisionTreeClassifier\n",
    "from sklearn.svm import SVC\n",
    "from time import time\n",
    "import pandas as pd\n",
    "\n",
    "# for this first comparison, just use default model settings\n",
    "modelNames = ['LogisticRegression', 'KNN', 'DecisionTree', 'SVM']\n",
    "accs_train = []\n",
    "accs_test = []\n",
    "fitTimes = []\n",
    "for model in [LogisticRegression(max_iter=1000),\n",
    "              KNeighborsClassifier(), \n",
    "              DecisionTreeClassifier(),\n",
    "              SVC()]:\n",
    "    \n",
    "    pipe = Pipeline([('featureTransformer', featureTransformer),\n",
    "                     ('model', model)])  \n",
    "    \n",
    "    start = time() \n",
    "    pipe.fit(X_train, y_train)\n",
    "    stop = time()\n",
    "    fitTimes.append(stop - start)      \n",
    "    \n",
    "    pred_train = pipe.predict(X_train)\n",
    "    pred_test = pipe.predict(X_test)\n",
    "    accs_train.append(accuracy_score(y_train, pred_train))\n",
    "    accs_test.append(accuracy_score(y_test, pred_test))\n",
    "    \n",
    "data = {'Model': modelNames,\n",
    "        'Train Time': fitTimes,\n",
    "        'Train Accuracy': accs_train,\n",
    "        'Test Accuracy': accs_test}\n",
    "\n",
    "display(pd.DataFrame(data))"
   ]
  },
  {
   "cell_type": "markdown",
   "metadata": {},
   "source": [
    "Also compare models in terms of more fundamental metrics log-loss, ROC-AUC, and PR-AUC. With default hyper-parmeter values, Logistic regression and SVM are by far the most accurate models for this dataset."
   ]
  },
  {
   "cell_type": "code",
   "execution_count": 19,
   "metadata": {},
   "outputs": [
    {
     "data": {
      "text/html": [
       "<div>\n",
       "<style scoped>\n",
       "    .dataframe tbody tr th:only-of-type {\n",
       "        vertical-align: middle;\n",
       "    }\n",
       "\n",
       "    .dataframe tbody tr th {\n",
       "        vertical-align: top;\n",
       "    }\n",
       "\n",
       "    .dataframe thead th {\n",
       "        text-align: right;\n",
       "    }\n",
       "</style>\n",
       "<table border=\"1\" class=\"dataframe\">\n",
       "  <thead>\n",
       "    <tr style=\"text-align: right;\">\n",
       "      <th></th>\n",
       "      <th>Model</th>\n",
       "      <th>Train logloss</th>\n",
       "      <th>Train ROC-AUC</th>\n",
       "      <th>Train PR-AUC</th>\n",
       "      <th>Test logloss</th>\n",
       "      <th>Test ROC-AUC</th>\n",
       "      <th>Test PR-AUC</th>\n",
       "    </tr>\n",
       "  </thead>\n",
       "  <tbody>\n",
       "    <tr>\n",
       "      <th>0</th>\n",
       "      <td>LogisticRegression</td>\n",
       "      <td>2.076046e-01</td>\n",
       "      <td>0.934923</td>\n",
       "      <td>0.597927</td>\n",
       "      <td>0.207546</td>\n",
       "      <td>0.938651</td>\n",
       "      <td>0.606790</td>\n",
       "    </tr>\n",
       "    <tr>\n",
       "      <th>1</th>\n",
       "      <td>KNN</td>\n",
       "      <td>1.388006e-01</td>\n",
       "      <td>0.963624</td>\n",
       "      <td>0.706845</td>\n",
       "      <td>0.803810</td>\n",
       "      <td>0.869625</td>\n",
       "      <td>0.496752</td>\n",
       "    </tr>\n",
       "    <tr>\n",
       "      <th>2</th>\n",
       "      <td>DecisionTree</td>\n",
       "      <td>9.992007e-16</td>\n",
       "      <td>1.000000</td>\n",
       "      <td>1.000000</td>\n",
       "      <td>3.773400</td>\n",
       "      <td>0.735531</td>\n",
       "      <td>0.331618</td>\n",
       "    </tr>\n",
       "    <tr>\n",
       "      <th>3</th>\n",
       "      <td>SVM</td>\n",
       "      <td>2.025943e-01</td>\n",
       "      <td>0.942580</td>\n",
       "      <td>0.727033</td>\n",
       "      <td>0.236716</td>\n",
       "      <td>0.902394</td>\n",
       "      <td>0.620493</td>\n",
       "    </tr>\n",
       "  </tbody>\n",
       "</table>\n",
       "</div>"
      ],
      "text/plain": [
       "                Model  Train logloss  Train ROC-AUC  Train PR-AUC  \\\n",
       "0  LogisticRegression   2.076046e-01       0.934923      0.597927   \n",
       "1                 KNN   1.388006e-01       0.963624      0.706845   \n",
       "2        DecisionTree   9.992007e-16       1.000000      1.000000   \n",
       "3                 SVM   2.025943e-01       0.942580      0.727033   \n",
       "\n",
       "   Test logloss  Test ROC-AUC  Test PR-AUC  \n",
       "0      0.207546      0.938651     0.606790  \n",
       "1      0.803810      0.869625     0.496752  \n",
       "2      3.773400      0.735531     0.331618  \n",
       "3      0.236716      0.902394     0.620493  "
      ]
     },
     "metadata": {},
     "output_type": "display_data"
    }
   ],
   "source": [
    "from sklearn.tree import DecisionTreeClassifier\n",
    "from sklearn.svm import SVC\n",
    "from matplotlib import pyplot as plt\n",
    "\n",
    "# set probability setting to true for SVM, which significantly increases fitting time, but allows \n",
    "# for evaluation for log-loss, ROC-AUC, and PR-AUC.\n",
    "train_logloss = []\n",
    "train_ROC_AUC = []\n",
    "train_PR_AUC = []\n",
    "test_logloss = []\n",
    "test_ROC_AUC = []\n",
    "test_PR_AUC = []\n",
    "modelNames = ['LogisticRegression', 'KNN', 'DecisionTree', 'SVM']\n",
    "for model in [LogisticRegression(max_iter=1000),\n",
    "              KNeighborsClassifier(), \n",
    "              DecisionTreeClassifier(),\n",
    "              SVC(probability=True)]:\n",
    "    pipe = Pipeline([('featureTransformer', featureTransformer),\n",
    "                     ('model', model)])  \n",
    "    \n",
    "    pipe.fit(X_train, y_train)\n",
    "    \n",
    "    pred_train = pipe.predict_proba(X_train)[:, 1]\n",
    "    pred_test = pipe.predict_proba(X_test)[:, 1]\n",
    "    \n",
    "    train_logloss.append(log_loss(y_train, pred_train))\n",
    "    test_logloss.append(log_loss(y_test, pred_test))\n",
    "    train_ROC_AUC.append(roc_auc_score(y_train, pred_train))\n",
    "    test_ROC_AUC.append(roc_auc_score(y_test, pred_test))\n",
    "    train_PR_AUC.append(average_precision_score(y_train, pred_train))\n",
    "    test_PR_AUC.append(average_precision_score(y_test, pred_test))\n",
    "    \n",
    "data = {'Model': modelNames,\n",
    "        \n",
    "        'Train logloss': train_logloss,\n",
    "        'Train ROC-AUC': train_ROC_AUC,\n",
    "        'Train PR-AUC': train_PR_AUC,\n",
    "        \n",
    "        'Test logloss': test_logloss,\n",
    "        'Test ROC-AUC': test_ROC_AUC,\n",
    "        'Test PR-AUC': test_PR_AUC}\n",
    "\n",
    "display(pd.DataFrame(data))"
   ]
  },
  {
   "cell_type": "code",
   "execution_count": null,
   "metadata": {},
   "outputs": [],
   "source": []
  },
  {
   "cell_type": "code",
   "execution_count": null,
   "metadata": {},
   "outputs": [],
   "source": []
  },
  {
   "cell_type": "markdown",
   "metadata": {},
   "source": [
    "### Problem 11: Improving the Model\n",
    "\n",
    "Now that we have some basic models on the board, we want to try to improve these.  Below, we list a few things to explore in this pursuit.\n",
    "\n",
    "- More feature engineering and exploration.  For example, should we keep the gender feature?  Why or why not?\n",
    "- Hyperparameter tuning and grid search.  All of our models have additional hyperparameters to tune and explore.  For example the number of neighbors in KNN or the maximum depth of a Decision Tree.  \n",
    "- Adjust your performance metric"
   ]
  },
  {
   "cell_type": "markdown",
   "metadata": {},
   "source": [
    "- Not sure why gender feature is mentioned here, as it is not present in the dataset. Further, no feature selection is applied for models below, as regularization is already applied for logistic regression and SVM, while decision trees inherently already apply feature selection.\n",
    "- Instead of accuracy, ROC-AUC is used as performance metric as it is more fundamental than accuracy. This is however not done for SVM, to save on calculation time.\n",
    "\n",
    "See hyper-parameter tuning results for each model below: "
   ]
  },
  {
   "cell_type": "markdown",
   "metadata": {},
   "source": [
    "### Logistic regression model tuning"
   ]
  },
  {
   "cell_type": "markdown",
   "metadata": {},
   "source": [
    "As mentioned, manual feature selection is not applied here, as logistic regression already applies L2 regularization. L2 regularization addresses potential overfitting issues by penalizing large coefficients. L1 regularization is not shown here, as it significantly increases fitting time. However, if L1 regularization would be used, feature selection is explicitly already performed."
   ]
  },
  {
   "cell_type": "code",
   "execution_count": 21,
   "metadata": {},
   "outputs": [
    {
     "name": "stdout",
     "output_type": "stream",
     "text": [
      "Best params:  {'featureTransformer__num__poly__degree': 2, 'model__C': 100}\n",
      "accuracy:  0.9126001456664239\n",
      "log-loss:  0.19050355449177986\n",
      "ROC-AUC:  0.9410442578560068\n",
      "PR-AUC:  0.6395057158815013\n"
     ]
    }
   ],
   "source": [
    "from sklearn.feature_selection import SelectFromModel\n",
    "\n",
    "model = LogisticRegression(max_iter=1e4)\n",
    "\n",
    "# also explore polynomial combinations for numeric features:\n",
    "featureTransformer = ColumnTransformer(\n",
    "    transformers=[\n",
    "        ('num', Pipeline(steps=[\n",
    "            ('poly', PolynomialFeatures(include_bias=False)),            \n",
    "            ('scaler', StandardScaler())\n",
    "        ]), num_cols),\n",
    "        ('cat', Pipeline(steps=[\n",
    "            ('encoder', OneHotEncoder(handle_unknown='ignore'))\n",
    "        ]), cat_cols)\n",
    "    ],\n",
    "    remainder='passthrough'\n",
    ")\n",
    "\n",
    "param_grid = {\n",
    "    'model__C': [10**i for i in range(-2, 3)],\n",
    "    'featureTransformer__num__poly__degree': list(range(1, 3)),\n",
    "             }\n",
    "\n",
    "pipe = Pipeline([('featureTransformer', featureTransformer),\n",
    "                 ('model', model)])\n",
    "\n",
    "# Use ROC-AUC as scoring criterium.\n",
    "grid = GridSearchCV(pipe, param_grid=param_grid, scoring='roc_auc', cv=5)   \n",
    "grid.fit(X_train, y_train)\n",
    "\n",
    "# print 'best' hyper-parameters found from grid search\n",
    "best_params = grid.best_params_\n",
    "print('Best params: ', best_params)\n",
    "\n",
    "# apply 'best' model on hold-out test set\n",
    "pred = grid.best_estimator_.predict_proba(X_test)[:, 1]\n",
    "pred_binary = grid.best_estimator_.predict(X_test)\n",
    "\n",
    "print('accuracy: ', accuracy_score(y_test, pred_binary))\n",
    "print('log-loss: ', log_loss(y_test, pred))\n",
    "print('ROC-AUC: ', roc_auc_score(y_test, pred))\n",
    "print('PR-AUC: ', average_precision_score(y_test, pred))"
   ]
  },
  {
   "cell_type": "markdown",
   "metadata": {},
   "source": [
    "### Logistic regression attempt with SMOTE"
   ]
  },
  {
   "cell_type": "markdown",
   "metadata": {},
   "source": [
    "Accuracy metrics do not seem to be improved when re-balancing classes with SMOTE."
   ]
  },
  {
   "cell_type": "code",
   "execution_count": 26,
   "metadata": {},
   "outputs": [
    {
     "name": "stdout",
     "output_type": "stream",
     "text": [
      "Best params:  {'model__C': 100}\n",
      "accuracy:  0.861455045723072\n",
      "log-loss:  0.33075945404970203\n",
      "ROC-AUC:  0.9412942448095496\n",
      "PR-AUC:  0.6243127909785355\n"
     ]
    }
   ],
   "source": [
    "from imblearn.over_sampling import SMOTE\n",
    "\n",
    "# need to use numerical representation of features with SMOTE\n",
    "# -> bring featureTransformer out of pipeline and just use polynomial degree of 2\n",
    "featureTransformer = ColumnTransformer(\n",
    "    transformers=[\n",
    "        ('num', Pipeline(steps=[\n",
    "            ('poly', PolynomialFeatures(include_bias=False, degree=2)),            \n",
    "            ('scaler', StandardScaler())\n",
    "        ]), num_cols),\n",
    "        ('cat', Pipeline(steps=[\n",
    "            ('encoder', OneHotEncoder(handle_unknown='ignore'))\n",
    "        ]), cat_cols)\n",
    "    ],\n",
    "    remainder='passthrough'\n",
    ")\n",
    "\n",
    "X_train_ohe = featureTransformer.fit_transform(X_train)\n",
    "X_test_ohe = featureTransformer.transform(X_test)\n",
    "\n",
    "sm = SMOTE(random_state=42)\n",
    "X_train_ohe_res, y_train_res = sm.fit_resample(X_train_ohe, y_train)\n",
    "\n",
    "model = LogisticRegression(max_iter=1e4)\n",
    "\n",
    "param_grid = {\n",
    "    'model__C': [10**i for i in range(-2, 3)],\n",
    "             }\n",
    "\n",
    "pipe = Pipeline([('model', model)])\n",
    "\n",
    "# Use ROC-AUC as scoring criterium\n",
    "grid = GridSearchCV(pipe, param_grid=param_grid, scoring='roc_auc', cv=5)   \n",
    "grid.fit(X_train_ohe_res, y_train_res)\n",
    "\n",
    "# print 'best' hyper-parameters found from grid search\n",
    "best_params = grid.best_params_\n",
    "print('Best params: ', best_params)\n",
    "\n",
    "# apply 'best' model on hold-out test set\n",
    "pred = grid.best_estimator_.predict_proba(X_test_ohe)[:, 1]\n",
    "pred_binary = grid.best_estimator_.predict(X_test_ohe)\n",
    "\n",
    "print('accuracy: ', accuracy_score(y_test, pred_binary))\n",
    "print('log-loss: ', log_loss(y_test, pred))\n",
    "print('ROC-AUC: ', roc_auc_score(y_test, pred))\n",
    "print('PR-AUC: ', average_precision_score(y_test, pred))"
   ]
  },
  {
   "cell_type": "code",
   "execution_count": 27,
   "metadata": {},
   "outputs": [
    {
     "data": {
      "text/plain": [
       "0.5"
      ]
     },
     "execution_count": 27,
     "metadata": {},
     "output_type": "execute_result"
    }
   ],
   "source": [
    "# double-check there is no class imbalance for training set after applying SMOTE\n",
    "np.mean(y_train_res)"
   ]
  },
  {
   "cell_type": "markdown",
   "metadata": {},
   "source": [
    "### Attempt with class weights"
   ]
  },
  {
   "cell_type": "markdown",
   "metadata": {},
   "source": [
    "Use class weights instead of SMOTE to handle class imbalance. Again, accuracy metrics do not seem to be improved."
   ]
  },
  {
   "cell_type": "code",
   "execution_count": 28,
   "metadata": {},
   "outputs": [
    {
     "name": "stdout",
     "output_type": "stream",
     "text": [
      "Best params:  {'featureTransformer__num__poly__degree': 2, 'model__C': 100}\n",
      "accuracy:  0.8593509751557822\n",
      "log-loss:  0.33177672912655604\n",
      "ROC-AUC:  0.9423551840016638\n",
      "PR-AUC:  0.6296005207977758\n"
     ]
    }
   ],
   "source": [
    "from sklearn.utils.class_weight import compute_class_weight\n",
    "\n",
    "class_weights = compute_class_weight('balanced', classes=np.unique(y_train), y=y_train)\n",
    "\n",
    "model = LogisticRegression(max_iter=1e4,\n",
    "                           class_weight={0: class_weights[0], 1: class_weights[1]})\n",
    "\n",
    "featureTransformer = ColumnTransformer(\n",
    "    transformers=[\n",
    "        ('num', Pipeline(steps=[\n",
    "            ('poly', PolynomialFeatures(include_bias=False)),            \n",
    "            ('scaler', StandardScaler())\n",
    "        ]), num_cols),\n",
    "        ('cat', Pipeline(steps=[\n",
    "            ('encoder', OneHotEncoder(handle_unknown='ignore'))\n",
    "        ]), cat_cols)\n",
    "    ],\n",
    "    remainder='passthrough'\n",
    ")\n",
    "\n",
    "param_grid = {\n",
    "    'model__C': [10**i for i in range(-2, 3)],\n",
    "    'featureTransformer__num__poly__degree': list(range(1, 3)),\n",
    "             }\n",
    "\n",
    "pipe = Pipeline([('featureTransformer', featureTransformer),\n",
    "                 ('model', model)])\n",
    "\n",
    "# Use ROC-AUC as scoring criterium\n",
    "grid = GridSearchCV(pipe, param_grid=param_grid, scoring='roc_auc', cv=5)   \n",
    "grid.fit(X_train, y_train)\n",
    "\n",
    "# print 'best' hyper-parameters found from grid search\n",
    "best_params = grid.best_params_\n",
    "print('Best params: ', best_params)\n",
    "\n",
    "# apply 'best' model on hold-out test set\n",
    "pred = grid.best_estimator_.predict_proba(X_test)[:, 1]\n",
    "pred_binary = grid.best_estimator_.predict(X_test)\n",
    "\n",
    "print('accuracy: ', accuracy_score(y_test, pred_binary))\n",
    "print('log-loss: ', log_loss(y_test, pred))\n",
    "print('ROC-AUC: ', roc_auc_score(y_test, pred))\n",
    "print('PR-AUC: ', average_precision_score(y_test, pred))"
   ]
  },
  {
   "cell_type": "markdown",
   "metadata": {},
   "source": [
    "### Logistic regression model coefficients"
   ]
  },
  {
   "cell_type": "markdown",
   "metadata": {},
   "source": [
    "Contract duration is an important feature affecting term deposit rate. 'success' outcome of previous marketing campaigns is another important feature affecting term deposit rate, as expected. Employment variation rate is an important feature negatively affecting term deposit rate.\n",
    "See determined coefficients below."
   ]
  },
  {
   "cell_type": "code",
   "execution_count": 40,
   "metadata": {},
   "outputs": [
    {
     "name": "stdout",
     "output_type": "stream",
     "text": [
      "Best params:  {'model__C': 1}\n",
      "accuracy:  0.9123573682932751\n",
      "log-loss:  0.2075460443488563\n",
      "ROC-AUC:  0.9386514793387498\n",
      "PR-AUC:  0.6067901862555148\n"
     ]
    }
   ],
   "source": [
    "from sklearn.feature_selection import SelectFromModel\n",
    "\n",
    "model = LogisticRegression(max_iter=1e4)\n",
    "\n",
    "# don't use polynomial features for examing model coefficients\n",
    "featureTransformer = ColumnTransformer(\n",
    "    transformers=[\n",
    "        ('num', Pipeline(steps=[\n",
    "            ('scaler', StandardScaler())\n",
    "        ]), num_cols),\n",
    "        ('cat', Pipeline(steps=[\n",
    "            ('encoder', OneHotEncoder(handle_unknown='ignore'))\n",
    "        ]), cat_cols)\n",
    "    ],\n",
    "    remainder='passthrough'\n",
    ")\n",
    "\n",
    "param_grid = {\n",
    "    'model__C': [10**i for i in range(-2, 3)],\n",
    "             }\n",
    "\n",
    "pipe = Pipeline([('featureTransformer', featureTransformer),\n",
    "                 ('model', model)])\n",
    "\n",
    "# Use ROC-AUC as scoring criterium.\n",
    "grid = GridSearchCV(pipe, param_grid=param_grid, scoring='roc_auc', cv=5)   \n",
    "grid.fit(X_train, y_train)\n",
    "\n",
    "# print 'best' hyper-parameters found from grid search\n",
    "best_params = grid.best_params_\n",
    "print('Best params: ', best_params)\n",
    "\n",
    "# apply 'best' model on hold-out test set\n",
    "pred = grid.best_estimator_.predict_proba(X_test)[:, 1]\n",
    "pred_binary = grid.best_estimator_.predict(X_test)\n",
    "\n",
    "print('accuracy: ', accuracy_score(y_test, pred_binary))\n",
    "print('log-loss: ', log_loss(y_test, pred))\n",
    "print('ROC-AUC: ', roc_auc_score(y_test, pred))\n",
    "print('PR-AUC: ', average_precision_score(y_test, pred))"
   ]
  },
  {
   "cell_type": "code",
   "execution_count": 46,
   "metadata": {},
   "outputs": [
    {
     "data": {
      "text/plain": [
       "Text(0, 0.5, 'feature name')"
      ]
     },
     "execution_count": 46,
     "metadata": {},
     "output_type": "execute_result"
    },
    {
     "data": {
      "image/png": "[encoded data removed]",
      "text/plain": [
       "<Figure size 864x1152 with 1 Axes>"
      ]
     },
     "metadata": {
      "needs_background": "light"
     },
     "output_type": "display_data"
    }
   ],
   "source": [
    "featureNames = grid.best_estimator_.named_steps['featureTransformer'].get_feature_names_out()\n",
    "coefs = grid.best_estimator_.named_steps['model'].coef_.reshape(-1)\n",
    "\n",
    "coef_series = pd.Series(dict(zip(featureNames, coefs))).sort_values(key=lambda x: x)\n",
    "\n",
    "plt.figure(figsize=(12, 16))\n",
    "plt.barh(coef_series.index, coef_series)\n",
    "plt.grid()\n",
    "plt.xlabel('coefficient')\n",
    "plt.ylabel('feature name')"
   ]
  },
  {
   "cell_type": "markdown",
   "metadata": {},
   "source": [
    "### K nearest neigbors model tuning"
   ]
  },
  {
   "cell_type": "markdown",
   "metadata": {},
   "source": [
    "Both ordinal as well as one-hot-encoding feature encoding techniques are attempted.\n",
    "For one-hot-encoding, new features are formed for every unique feature value, which\n",
    "may create many new features. For ordinal encoding, feature values are mapped to integer\n",
    "encoding within the same column. For the latter technique, unrelated feature categories could be grouped together, unlike one-hot-encoding, and is therefore an inferior technique to one-hot-encoding. However, it might be less affected by overfitting."
   ]
  },
  {
   "cell_type": "code",
   "execution_count": 30,
   "metadata": {},
   "outputs": [
    {
     "name": "stdout",
     "output_type": "stream",
     "text": [
      "Best params:  {'featureTransformer__cat__encoder': OneHotEncoder(handle_unknown='ignore'), 'model__n_neighbors': 91}\n",
      "accuracy:  0.9072590434571498\n",
      "log-loss:  0.2110235958242015\n",
      "ROC-AUC:  0.9332916839486363\n",
      "PR-AUC:  0.6130022437285121\n"
     ]
    }
   ],
   "source": [
    "from sklearn.preprocessing import OrdinalEncoder\n",
    "\n",
    "model = KNeighborsClassifier()\n",
    "\n",
    "# explore both one-hot-encoding and ordinal encoding (same as label encoding).\n",
    "oneHotEncoder = OneHotEncoder(handle_unknown='ignore')\n",
    "ordinalEncoder = OrdinalEncoder(handle_unknown='use_encoded_value', unknown_value=-1)\n",
    "\n",
    "featureTransformer = ColumnTransformer(\n",
    "    transformers=[\n",
    "        ('num', Pipeline(steps=[\n",
    "            ('scaler', StandardScaler())\n",
    "        ]), num_cols),\n",
    "        ('cat', Pipeline(steps=[\n",
    "            ('encoder', ordinalEncoder)                         \n",
    "            # ('encoder', OneHotEncoder(handle_unknown='ignore'))\n",
    "        ]), cat_cols)\n",
    "    ],\n",
    "    remainder='passthrough'\n",
    ")\n",
    "\n",
    "param_grid = {\n",
    "    'model__n_neighbors': [i for i in range(1, 200, 10)],    \n",
    "    'featureTransformer__cat__encoder': [oneHotEncoder, ordinalEncoder]    \n",
    "             }\n",
    "\n",
    "pipe = Pipeline([('featureTransformer', featureTransformer),  \n",
    "                 ('model', model)])\n",
    "\n",
    "# Use ROC-AUC as scoring criterium for 5-fold cross validation hyper-parameter selection. \n",
    "grid = GridSearchCV(pipe, param_grid=param_grid, scoring='roc_auc', cv=5)   \n",
    "grid.fit(X_train, y_train)\n",
    "\n",
    "# print 'best' hyper-parameters found from grid search\n",
    "best_params = grid.best_params_\n",
    "print('Best params: ', best_params)\n",
    "\n",
    "# apply 'best' model on hold-out test set\n",
    "pred = grid.best_estimator_.predict_proba(X_test)[:, 1]\n",
    "pred_binary = grid.best_estimator_.predict(X_test)\n",
    "\n",
    "print('accuracy: ', accuracy_score(y_test, pred_binary))\n",
    "print('log-loss: ', log_loss(y_test, pred))\n",
    "print('ROC-AUC: ', roc_auc_score(y_test, pred))\n",
    "print('PR-AUC: ', average_precision_score(y_test, pred))"
   ]
  },
  {
   "cell_type": "markdown",
   "metadata": {},
   "source": [
    "### Decision tree model tuning"
   ]
  },
  {
   "cell_type": "markdown",
   "metadata": {},
   "source": [
    "Decision trees do not require feature scaling. \n",
    "Further, both ordinal as well as one-hot-encoding feature encoding techniques are attempted."
   ]
  },
  {
   "cell_type": "code",
   "execution_count": 88,
   "metadata": {
    "collapsed": true
   },
   "outputs": [
    {
     "name": "stdout",
     "output_type": "stream",
     "text": [
      "Best params:  {'featureTransformer__cat__encoder': OrdinalEncoder(handle_unknown='use_encoded_value', unknown_value=-1), 'model__ccp_alpha': 0, 'model__max_depth': 5, 'model__max_features': None}\n",
      "accuracy:  0.9121145909201263\n",
      "log-loss:  0.2079233149422013\n",
      "ROC-AUC:  0.9211035845448836\n",
      "PR-AUC:  0.6060330860807361\n"
     ]
    }
   ],
   "source": [
    "from sklearn.preprocessing import OrdinalEncoder\n",
    "\n",
    "model = DecisionTreeClassifier()\n",
    "\n",
    "# explore both one-hot-encoding and ordinal encoding (same as label encoding).\n",
    "oneHotEncoder = OneHotEncoder(handle_unknown='ignore')\n",
    "ordinalEncoder = OrdinalEncoder(handle_unknown='use_encoded_value', unknown_value=-1)\n",
    "\n",
    "featureTransformer = ColumnTransformer(\n",
    "    transformers=[\n",
    "        ('cat', Pipeline(steps=[\n",
    "            ('encoder', ordinalEncoder)             \n",
    "        ]), cat_cols),        \n",
    "    ],\n",
    "    remainder='passthrough'\n",
    ")\n",
    "\n",
    "# attempt max depth, pruning, and max feature settings to address potential overfitting\n",
    "param_grid = {\n",
    "    'model__max_depth': range(1, 9, 2),\n",
    "    'model__ccp_alpha': [0, 0.01],\n",
    "    'model__max_features': [None, 'sqrt', 'log2'],\n",
    "    'featureTransformer__cat__encoder': [oneHotEncoder, ordinalEncoder]\n",
    "             }\n",
    "\n",
    "pipe = Pipeline([('featureTransformer', featureTransformer),  \n",
    "                 ('model', model)])\n",
    "\n",
    "# Use ROC-AUC as scoring criterium.  \n",
    "grid = GridSearchCV(pipe, param_grid=param_grid, scoring='roc_auc', cv=5)   \n",
    "grid.fit(X_train, y_train)\n",
    "\n",
    "# print 'best' hyper-parameters found from grid search\n",
    "best_params = grid.best_params_\n",
    "print('Best params: ', best_params)\n",
    "\n",
    "# apply 'best' model on hold-out test set\n",
    "pred = grid.best_estimator_.predict_proba(X_test)[:, 1]\n",
    "pred_binary = grid.best_estimator_.predict(X_test)\n",
    "\n",
    "print('accuracy: ', accuracy_score(y_test, pred_binary))\n",
    "print('log-loss: ', log_loss(y_test, pred))\n",
    "print('ROC-AUC: ', roc_auc_score(y_test, pred))\n",
    "print('PR-AUC: ', average_precision_score(y_test, pred))"
   ]
  },
  {
   "cell_type": "raw",
   "metadata": {},
   "source": [
    "Best params:  {'model__max_depth': 5}\n",
    "accuracy:  0.9127619972485231\n",
    "log-loss:  0.19498248464406948\n",
    "ROC-AUC:  0.9278976193803964\n",
    "PR-AUC:  0.6175366485779593\n"
   ]
  },
  {
   "cell_type": "markdown",
   "metadata": {},
   "source": [
    "### Support vector machine model tuning"
   ]
  },
  {
   "cell_type": "markdown",
   "metadata": {},
   "source": [
    "As mentioned before, probability setting is turned off to save on cumputation time. That means that only accuracy at 50% threshold is considered here. Both one-hot-encoding and ordinal encoding are explored."
   ]
  },
  {
   "cell_type": "code",
   "execution_count": 89,
   "metadata": {},
   "outputs": [
    {
     "name": "stdout",
     "output_type": "stream",
     "text": [
      "Best params:  {'featureTransformer__cat__encoder': OneHotEncoder(handle_unknown='ignore'), 'model__C': 1}\n",
      "accuracy:  0.9108197782633325\n"
     ]
    }
   ],
   "source": [
    "from sklearn.feature_selection import SelectFromModel\n",
    "\n",
    "# switch off probability setting\n",
    "model = SVC(probability=False)\n",
    "\n",
    "# explore one-hot-encoding and ordinal encoding.\n",
    "oneHotEncoder = OneHotEncoder(handle_unknown='ignore')\n",
    "ordinalEncoder = OrdinalEncoder(handle_unknown='use_encoded_value', unknown_value=-1)\n",
    "\n",
    "featureTransformer = ColumnTransformer(\n",
    "    transformers=[\n",
    "        ('num', Pipeline(steps=[\n",
    "            ('scaler', StandardScaler())\n",
    "        ]), num_cols),\n",
    "        ('cat', Pipeline(steps=[\n",
    "            ('encoder', ordinalEncoder)\n",
    "        ]), cat_cols)\n",
    "    ],\n",
    "    remainder='passthrough'\n",
    ")\n",
    "\n",
    "param_grid = {\n",
    "    'model__C': [10**i for i in range(-2, 3)],\n",
    "    'featureTransformer__cat__encoder': [oneHotEncoder, ordinalEncoder]    \n",
    "             }\n",
    "\n",
    "pipe = Pipeline([('featureTransformer', featureTransformer),  \n",
    "                 ('model', model)])\n",
    "\n",
    "# Use accuracy as scoring criterium\n",
    "grid = GridSearchCV(pipe, param_grid=param_grid, scoring='accuracy', cv=5)   \n",
    "grid.fit(X_train, y_train)\n",
    "\n",
    "# print 'best' hyper-parameters found from grid search\n",
    "best_params = grid.best_params_\n",
    "print('Best params: ', best_params)\n",
    "\n",
    "# apply 'best' model on hold-out test set\n",
    "pred_binary = grid.best_estimator_.predict(X_test)\n",
    "\n",
    "print('accuracy: ', accuracy_score(y_test, pred_binary))"
   ]
  },
  {
   "cell_type": "markdown",
   "metadata": {},
   "source": [
    "# SUMMARY"
   ]
  },
  {
   "cell_type": "markdown",
   "metadata": {},
   "source": [
    "The dataset contains information related to direct marketing campaigns (phone calls) of a Portuguese banking institution. The business objective associated with this dataset is to improve the effectiveness of marketing campaigns and maximize the return on investment (ROI) for the bank.\n",
    "\n",
    "K-nearest neighbors, logistic regression, decision trees, and support vector machines were trained and evaluated using appropriate performance metrics such as accuracy, ROC-AUC, PR-AUC, and log-loss. On this dataset, it appeared that logistic regression and support vector machines had best accuracy on a hold-out test set. For final model choice, the recommendation is to use logistic regression, due to its good accuracy and relatively low complexity (and thus low training time) compared to SVMs. In addition, logistic regression allows for model interpretability, and thus an understanding of the relationships between features and target variable (i.e. subscription to a term deposit). Several important features affecting term deposit rate were identified. For marketing campaigns, focusing on clients exhibiting these features can optimize marketing efficiency and resource allocation.\n",
    "\n",
    "Further, for the logistic regression model, special attention was given to techniques handling the class imbalance, namely SMOTE and class weighting. However, for this dataset, accuracy metrics did not improve with these techniques."
   ]
  },
  {
   "cell_type": "markdown",
   "metadata": {},
   "source": [
    "##### Questions"
   ]
  },
  {
   "cell_type": "code",
   "execution_count": 95,
   "metadata": {},
   "outputs": [
    {
     "data": {
      "text/plain": [
       "0.0690296997653152"
      ]
     },
     "execution_count": 95,
     "metadata": {},
     "output_type": "execute_result"
    }
   ],
   "source": [
    "pred_binary.mean()\n"
   ]
  },
  {
   "cell_type": "code",
   "execution_count": 96,
   "metadata": {},
   "outputs": [
    {
     "data": {
      "text/plain": [
       "array([0, 0, 0, ..., 0, 0, 0])"
      ]
     },
     "execution_count": 96,
     "metadata": {},
     "output_type": "execute_result"
    }
   ],
   "source": []
  },
  {
   "cell_type": "code",
   "execution_count": 22,
   "metadata": {},
   "outputs": [
    {
     "data": {
      "text/plain": [
       "array([0, 0, 0, ..., 0, 0, 0])"
      ]
     },
     "execution_count": 22,
     "metadata": {},
     "output_type": "execute_result"
    }
   ],
   "source": []
  },
  {
   "cell_type": "code",
   "execution_count": null,
   "metadata": {},
   "outputs": [],
   "source": []
  }
 ],
 "metadata": {
  "kernelspec": {
   "display_name": "Python 3 (ipykernel)",
   "language": "python",
   "name": "python3"
  },
  "language_info": {
   "codemirror_mode": {
    "name": "ipython",
    "version": 3
   },
   "file_extension": ".py",
   "mimetype": "text/x-python",
   "name": "python",
   "nbconvert_exporter": "python",
   "pygments_lexer": "ipython3",
   "version": "3.7.12"
  },
  "widgets": {
   "application/vnd.jupyter.widget-state+json": {
    "state": {},
    "version_major": 2,
    "version_minor": 0
   }
  }
 },
 "nbformat": 4,
 "nbformat_minor": 4
}
